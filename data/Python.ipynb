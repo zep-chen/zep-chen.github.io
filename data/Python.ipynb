{
 "cells": [
  {
   "cell_type": "code",
   "execution_count": 3,
   "metadata": {},
   "outputs": [],
   "source": [
    "from IPython.core.interactiveshell import InteractiveShell \n",
    "InteractiveShell.ast_node_interactivity = \"all\" "
   ]
  },
  {
   "attachments": {},
   "cell_type": "markdown",
   "metadata": {},
   "source": [
    "# Data Structure 数据结构"
   ]
  },
  {
   "attachments": {},
   "cell_type": "markdown",
   "metadata": {},
   "source": [
    "## Str 字符串"
   ]
  },
  {
   "cell_type": "code",
   "execution_count": 8,
   "metadata": {},
   "outputs": [
    {
     "data": {
      "text/plain": [
       "'abc'"
      ]
     },
     "execution_count": 8,
     "metadata": {},
     "output_type": "execute_result"
    },
    {
     "data": {
      "text/plain": [
       "'abc '"
      ]
     },
     "execution_count": 8,
     "metadata": {},
     "output_type": "execute_result"
    },
    {
     "data": {
      "text/plain": [
       "' abc'"
      ]
     },
     "execution_count": 8,
     "metadata": {},
     "output_type": "execute_result"
    },
    {
     "data": {
      "text/plain": [
       "' dbc '"
      ]
     },
     "execution_count": 8,
     "metadata": {},
     "output_type": "execute_result"
    },
    {
     "data": {
      "text/plain": [
       "[' a', 'c ']"
      ]
     },
     "execution_count": 8,
     "metadata": {},
     "output_type": "execute_result"
    },
    {
     "data": {
      "text/plain": [
       "'a,b'"
      ]
     },
     "execution_count": 8,
     "metadata": {},
     "output_type": "execute_result"
    }
   ],
   "source": [
    "text = \" abc \"\n",
    "text.strip() #把头和尾的空格去掉\n",
    "text.lstrip() #把左边的空格去掉\n",
    "text.rstrip() #把右边的空格去掉\n",
    "text.replace(\"a\",\"d\") #替换\n",
    "text.split(\"b\") #分割\n",
    "','.join(['a', 'b']) #拼接"
   ]
  },
  {
   "attachments": {},
   "cell_type": "markdown",
   "metadata": {},
   "source": [
    "## List 列表"
   ]
  },
  {
   "cell_type": "code",
   "execution_count": 33,
   "metadata": {},
   "outputs": [
    {
     "data": {
      "text/plain": [
       "['1']"
      ]
     },
     "execution_count": 33,
     "metadata": {},
     "output_type": "execute_result"
    },
    {
     "data": {
      "text/plain": [
       "['2', 2, '1', 1]"
      ]
     },
     "execution_count": 33,
     "metadata": {},
     "output_type": "execute_result"
    },
    {
     "data": {
      "text/plain": [
       "[0, 2, 4, 6, 8]"
      ]
     },
     "execution_count": 33,
     "metadata": {},
     "output_type": "execute_result"
    }
   ],
   "source": [
    "L1 = [1, '1']\n",
    "L2 = [2, '2']\n",
    "L3 = L1 + L2 #合并列表\n",
    "L3[1:2] #切片从位置1的元素到位置2之前的所有元素\n",
    "L3[::-1] #逆序输出\n",
    "list(range(0, 10, 2)) #生成连续数字列表"
   ]
  },
  {
   "attachments": {},
   "cell_type": "markdown",
   "metadata": {},
   "source": [
    "## Set 集合\n",
    "注意set是无序、不重复、可变的，因为可变所以不存在哈希值，不能作为字典的key。而frozenset是不可变的，存在哈希值，因此可以作为字典的key"
   ]
  },
  {
   "cell_type": "code",
   "execution_count": 23,
   "metadata": {},
   "outputs": [
    {
     "data": {
      "text/plain": [
       "{'1', 1}"
      ]
     },
     "execution_count": 23,
     "metadata": {},
     "output_type": "execute_result"
    },
    {
     "data": {
      "text/plain": [
       "{1, 2, '2'}"
      ]
     },
     "execution_count": 23,
     "metadata": {},
     "output_type": "execute_result"
    },
    {
     "data": {
      "text/plain": [
       "{'1', 1, 2, '2'}"
      ]
     },
     "execution_count": 23,
     "metadata": {},
     "output_type": "execute_result"
    },
    {
     "data": {
      "text/plain": [
       "{1}"
      ]
     },
     "execution_count": 23,
     "metadata": {},
     "output_type": "execute_result"
    },
    {
     "data": {
      "text/plain": [
       "{'1'}"
      ]
     },
     "execution_count": 23,
     "metadata": {},
     "output_type": "execute_result"
    }
   ],
   "source": [
    "S1 = set([1, '1', 1])\n",
    "S2 = set([2, 1, '2'])\n",
    "S1\n",
    "S2\n",
    "set(S1) | set(S2) #并集\n",
    "set(S1) & set(S2) #交集\n",
    "set(S1) - set(S2) #差集"
   ]
  },
  {
   "attachments": {},
   "cell_type": "markdown",
   "metadata": {},
   "source": [
    "## Dict 字典"
   ]
  },
  {
   "cell_type": "code",
   "execution_count": 30,
   "metadata": {},
   "outputs": [
    {
     "data": {
      "text/plain": [
       "dict_keys(['key1', 'key2'])"
      ]
     },
     "execution_count": 30,
     "metadata": {},
     "output_type": "execute_result"
    },
    {
     "data": {
      "text/plain": [
       "dict_values(['value1', 'value2'])"
      ]
     },
     "execution_count": 30,
     "metadata": {},
     "output_type": "execute_result"
    },
    {
     "data": {
      "text/plain": [
       "dict_items([('key1', 'value1'), ('key2', 'value2')])"
      ]
     },
     "execution_count": 30,
     "metadata": {},
     "output_type": "execute_result"
    },
    {
     "name": "stdout",
     "output_type": "stream",
     "text": [
      "key1 is in D1.\n"
     ]
    }
   ],
   "source": [
    "D1 = {\n",
    "    \"key1\": \"value1\",\n",
    "    \"key2\": \"value2\"\n",
    "}\n",
    "D1.keys() #获取keys\n",
    "D1.values() #获取values\n",
    "D1.items() #获取所有信息\n",
    "\n",
    "#判断字典中是否存在特定key\n",
    "if \"key1\" in D1:\n",
    "    print(\"key1 is in D1.\")"
   ]
  },
  {
   "attachments": {},
   "cell_type": "markdown",
   "metadata": {},
   "source": [
    "## 日期时间"
   ]
  },
  {
   "cell_type": "code",
   "execution_count": 65,
   "metadata": {},
   "outputs": [
    {
     "data": {
      "text/plain": [
       "2011"
      ]
     },
     "execution_count": 65,
     "metadata": {},
     "output_type": "execute_result"
    },
    {
     "data": {
      "text/plain": [
       "1"
      ]
     },
     "execution_count": 65,
     "metadata": {},
     "output_type": "execute_result"
    },
    {
     "data": {
      "text/plain": [
       "2"
      ]
     },
     "execution_count": 65,
     "metadata": {},
     "output_type": "execute_result"
    },
    {
     "data": {
      "text/plain": [
       "3"
      ]
     },
     "execution_count": 65,
     "metadata": {},
     "output_type": "execute_result"
    },
    {
     "data": {
      "text/plain": [
       "4"
      ]
     },
     "execution_count": 65,
     "metadata": {},
     "output_type": "execute_result"
    },
    {
     "data": {
      "text/plain": [
       "5"
      ]
     },
     "execution_count": 65,
     "metadata": {},
     "output_type": "execute_result"
    },
    {
     "data": {
      "text/plain": [
       "'2023-11-09 19:39:13'"
      ]
     },
     "execution_count": 65,
     "metadata": {},
     "output_type": "execute_result"
    },
    {
     "data": {
      "text/plain": [
       "datetime.datetime(2023, 11, 9, 19, 37, 49)"
      ]
     },
     "execution_count": 65,
     "metadata": {},
     "output_type": "execute_result"
    },
    {
     "data": {
      "text/plain": [
       "[datetime.datetime(2023, 11, 9, 19, 39, 13, 754243),\n",
       " datetime.datetime(2023, 11, 8, 19, 39, 13, 754243),\n",
       " datetime.datetime(2023, 11, 7, 19, 39, 13, 754243),\n",
       " datetime.datetime(2023, 11, 6, 19, 39, 13, 754243),\n",
       " datetime.datetime(2023, 11, 5, 19, 39, 13, 754243),\n",
       " datetime.datetime(2023, 11, 4, 19, 39, 13, 754243),\n",
       " datetime.datetime(2023, 11, 3, 19, 39, 13, 754243),\n",
       " datetime.datetime(2023, 11, 2, 19, 39, 13, 754243),\n",
       " datetime.datetime(2023, 11, 1, 19, 39, 13, 754243),\n",
       " datetime.datetime(2023, 10, 31, 19, 39, 13, 754243)]"
      ]
     },
     "execution_count": 65,
     "metadata": {},
     "output_type": "execute_result"
    }
   ],
   "source": [
    "from datetime import datetime\n",
    "from datetime import timedelta\n",
    "time1 = datetime(2011, 1, 2, 3, 4, 5)\n",
    "time1.year\n",
    "time1.month\n",
    "time1.day\n",
    "time1.hour\n",
    "time1.minute\n",
    "time1.second\n",
    "\n",
    "datetime.now().strftime('%Y-%m-%d %H:%M:%S') #由日期格式转化为字符串格式\n",
    "datetime.strptime('2023-11-09 19:37:49', '%Y-%m-%d %H:%M:%S') #由字符串转化为日期格式\n",
    "\n",
    "oneday = timedelta(1)#可用单位：days, seconds, microseconds, milliseconds, minutes, hours, weeks\n",
    "[datetime.today() - timedelta(days=x) for x in range(0, 10)] #创建一个时间跨度列表"
   ]
  },
  {
   "attachments": {},
   "cell_type": "markdown",
   "metadata": {},
   "source": [
    "# 语法"
   ]
  },
  {
   "attachments": {},
   "cell_type": "markdown",
   "metadata": {},
   "source": [
    "## 字符串格式化\n",
    "注意f-string语法只在高版本的python中起作用"
   ]
  },
  {
   "cell_type": "code",
   "execution_count": 72,
   "metadata": {},
   "outputs": [
    {
     "data": {
      "text/plain": [
       "'x=1'"
      ]
     },
     "execution_count": 72,
     "metadata": {},
     "output_type": "execute_result"
    },
    {
     "data": {
      "text/plain": [
       "'c:\\\\Users\\\\Fattree\\\\Desktop\\\\zep-chen.github.io\\\\data\\\\desktop.jpg'"
      ]
     },
     "execution_count": 72,
     "metadata": {},
     "output_type": "execute_result"
    }
   ],
   "source": [
    "x = 1\n",
    "f\"x={x}\"\n",
    "fr'{os.getcwd()}\\desktop.jpg' #在原生字符串下使用格式化"
   ]
  },
  {
   "attachments": {},
   "cell_type": "markdown",
   "metadata": {},
   "source": [
    "## Comprehensions 推导式"
   ]
  },
  {
   "cell_type": "code",
   "execution_count": 51,
   "metadata": {},
   "outputs": [
    {
     "data": {
      "text/plain": [
       "[4]"
      ]
     },
     "execution_count": 51,
     "metadata": {},
     "output_type": "execute_result"
    },
    {
     "data": {
      "text/plain": [
       "[1, 4, 3]"
      ]
     },
     "execution_count": 51,
     "metadata": {},
     "output_type": "execute_result"
    },
    {
     "data": {
      "text/plain": [
       "{'value1': 'key1'}"
      ]
     },
     "execution_count": 51,
     "metadata": {},
     "output_type": "execute_result"
    },
    {
     "data": {
      "text/plain": [
       "{1, 4}"
      ]
     },
     "execution_count": 51,
     "metadata": {},
     "output_type": "execute_result"
    },
    {
     "data": {
      "text/plain": [
       "<generator object <genexpr> at 0x0000022B1EF4A8E0>"
      ]
     },
     "execution_count": 51,
     "metadata": {},
     "output_type": "execute_result"
    }
   ],
   "source": [
    "\n",
    "#列表推导式\n",
    "[x*x for x in [1, 2, 3] if x%2==0]\n",
    "[x*x if x%2==0 else x for x in [1, 2, 3]]\n",
    "\n",
    "#字典推导式\n",
    "D1 = {\n",
    "    \"key1\": \"value1\",\n",
    "    \"key2\": \"value2\"\n",
    "}\n",
    "{v: k for k, v in D1.items() if k=='key1'}\n",
    "\n",
    "#集合推导式\n",
    "{x**2 for x in [1, 1, 2]}\n",
    "\n",
    "#生成器推导式\n",
    "(x**2 for x in range(100))"
   ]
  },
  {
   "attachments": {},
   "cell_type": "markdown",
   "metadata": {},
   "source": [
    "# Input and Output"
   ]
  },
  {
   "attachments": {},
   "cell_type": "markdown",
   "metadata": {},
   "source": [
    "## os package"
   ]
  },
  {
   "cell_type": "code",
   "execution_count": null,
   "metadata": {},
   "outputs": [],
   "source": [
    "import os\n",
    "os.getcwd() #得到当前工作目录，即当前Python脚本工作的目录路径\n",
    "os.listdir() #返回指定目录下的所有文件和目录名\n",
    "os.chdir(r\"C:\\\\Windows\") # 切换路径"
   ]
  },
  {
   "attachments": {},
   "cell_type": "markdown",
   "metadata": {},
   "source": [
    "## 编码\n",
    "* encode编码\n",
    "    * `str->bytes` 作用是将Unicode编码转换成其他编码的字符串。\n",
    "* decode解码\n",
    "    * `bytes->str` 作用是将其他编码的字符串转换成 Unicode 编码。"
   ]
  },
  {
   "cell_type": "code",
   "execution_count": 70,
   "metadata": {},
   "outputs": [
    {
     "data": {
      "text/plain": [
       "'text'"
      ]
     },
     "execution_count": 70,
     "metadata": {},
     "output_type": "execute_result"
    },
    {
     "data": {
      "text/plain": [
       "b'hello'"
      ]
     },
     "execution_count": 70,
     "metadata": {},
     "output_type": "execute_result"
    }
   ],
   "source": [
    "b'text'.decode(encoding=\"utf-8\", errors=\"strict\")\n",
    "'hello'.encode(encoding=\"utf-8\", errors=\"strict\")"
   ]
  },
  {
   "attachments": {},
   "cell_type": "markdown",
   "metadata": {},
   "source": [
    "## JSON\n",
    "注意json和dict有很大区别，json是一种通用数据格式，而dict只是python中一种数据结构。"
   ]
  },
  {
   "cell_type": "markdown",
   "metadata": {},
   "source": [
    "# Log\n",
    "* logging\n",
    "* Loguru"
   ]
  },
  {
   "cell_type": "markdown",
   "metadata": {},
   "source": [
    "# References\n",
    "* [为什么不建议使用Python自带的logging](https://zhuanlan.zhihu.com/p/662749833)"
   ]
  },
  {
   "cell_type": "markdown",
   "metadata": {},
   "source": []
  }
 ],
 "metadata": {
  "kernelspec": {
   "display_name": "Python 3",
   "language": "python",
   "name": "python3"
  },
  "language_info": {
   "codemirror_mode": {
    "name": "ipython",
    "version": 3
   },
   "file_extension": ".py",
   "mimetype": "text/x-python",
   "name": "python",
   "nbconvert_exporter": "python",
   "pygments_lexer": "ipython3",
   "version": "3.11.4"
  },
  "vscode": {
   "interpreter": {
    "hash": "8237c317dd7162de43e8c05de32e9b3692e6ea3fb3e59d023d36c90ab6e64641"
   }
  }
 },
 "nbformat": 4,
 "nbformat_minor": 2
}
