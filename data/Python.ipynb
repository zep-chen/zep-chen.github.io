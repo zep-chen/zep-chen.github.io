{
 "cells": [
  {
   "cell_type": "code",
   "execution_count": 4,
   "metadata": {},
   "outputs": [],
   "source": [
    "from IPython.core.interactiveshell import InteractiveShell \n",
    "InteractiveShell.ast_node_interactivity = \"all\" "
   ]
  },
  {
   "attachments": {},
   "cell_type": "markdown",
   "metadata": {},
   "source": [
    "# Data Structure 数据结构"
   ]
  },
  {
   "attachments": {},
   "cell_type": "markdown",
   "metadata": {},
   "source": [
    "## Str 字符串"
   ]
  },
  {
   "cell_type": "code",
   "execution_count": 8,
   "metadata": {},
   "outputs": [
    {
     "data": {
      "text/plain": [
       "'abc'"
      ]
     },
     "execution_count": 8,
     "metadata": {},
     "output_type": "execute_result"
    },
    {
     "data": {
      "text/plain": [
       "'abc '"
      ]
     },
     "execution_count": 8,
     "metadata": {},
     "output_type": "execute_result"
    },
    {
     "data": {
      "text/plain": [
       "' abc'"
      ]
     },
     "execution_count": 8,
     "metadata": {},
     "output_type": "execute_result"
    },
    {
     "data": {
      "text/plain": [
       "' dbc '"
      ]
     },
     "execution_count": 8,
     "metadata": {},
     "output_type": "execute_result"
    },
    {
     "data": {
      "text/plain": [
       "[' a', 'c ']"
      ]
     },
     "execution_count": 8,
     "metadata": {},
     "output_type": "execute_result"
    },
    {
     "data": {
      "text/plain": [
       "'a,b'"
      ]
     },
     "execution_count": 8,
     "metadata": {},
     "output_type": "execute_result"
    }
   ],
   "source": [
    "text = \" abc \"\n",
    "text.strip() #把头和尾的空格去掉\n",
    "text.lstrip() #把左边的空格去掉\n",
    "text.rstrip() #把右边的空格去掉\n",
    "text.replace(\"a\",\"d\") #替换\n",
    "text.split(\"b\") #分割\n",
    "','.join(['a', 'b']) #拼接"
   ]
  },
  {
   "attachments": {},
   "cell_type": "markdown",
   "metadata": {},
   "source": [
    "## List 列表"
   ]
  },
  {
   "cell_type": "code",
   "execution_count": 33,
   "metadata": {},
   "outputs": [
    {
     "data": {
      "text/plain": [
       "['1']"
      ]
     },
     "execution_count": 33,
     "metadata": {},
     "output_type": "execute_result"
    },
    {
     "data": {
      "text/plain": [
       "['2', 2, '1', 1]"
      ]
     },
     "execution_count": 33,
     "metadata": {},
     "output_type": "execute_result"
    },
    {
     "data": {
      "text/plain": [
       "[0, 2, 4, 6, 8]"
      ]
     },
     "execution_count": 33,
     "metadata": {},
     "output_type": "execute_result"
    }
   ],
   "source": [
    "L1 = [1, '1']\n",
    "L2 = [2, '2']\n",
    "L3 = L1 + L2 #合并列表\n",
    "L3[1:2] #切片从位置1的元素到位置2之前的所有元素\n",
    "L3[::-1] #逆序输出\n",
    "list(range(0, 10, 2)) #生成连续数字列表"
   ]
  },
  {
   "attachments": {},
   "cell_type": "markdown",
   "metadata": {},
   "source": [
    "## Set 集合\n",
    "注意set是无序、不重复、可变的，因为可变所以不存在哈希值，不能作为字典的key。而frozenset是不可变的，存在哈希值，因此可以作为字典的key"
   ]
  },
  {
   "cell_type": "code",
   "execution_count": 23,
   "metadata": {},
   "outputs": [
    {
     "data": {
      "text/plain": [
       "{'1', 1}"
      ]
     },
     "execution_count": 23,
     "metadata": {},
     "output_type": "execute_result"
    },
    {
     "data": {
      "text/plain": [
       "{1, 2, '2'}"
      ]
     },
     "execution_count": 23,
     "metadata": {},
     "output_type": "execute_result"
    },
    {
     "data": {
      "text/plain": [
       "{'1', 1, 2, '2'}"
      ]
     },
     "execution_count": 23,
     "metadata": {},
     "output_type": "execute_result"
    },
    {
     "data": {
      "text/plain": [
       "{1}"
      ]
     },
     "execution_count": 23,
     "metadata": {},
     "output_type": "execute_result"
    },
    {
     "data": {
      "text/plain": [
       "{'1'}"
      ]
     },
     "execution_count": 23,
     "metadata": {},
     "output_type": "execute_result"
    }
   ],
   "source": [
    "S1 = set([1, '1', 1])\n",
    "S2 = set([2, 1, '2'])\n",
    "S1\n",
    "S2\n",
    "set(S1) | set(S2) #并集\n",
    "set(S1) & set(S2) #交集\n",
    "set(S1) - set(S2) #差集"
   ]
  },
  {
   "attachments": {},
   "cell_type": "markdown",
   "metadata": {},
   "source": [
    "## Dict 字典"
   ]
  },
  {
   "cell_type": "code",
   "execution_count": 30,
   "metadata": {},
   "outputs": [
    {
     "data": {
      "text/plain": [
       "dict_keys(['key1', 'key2'])"
      ]
     },
     "execution_count": 30,
     "metadata": {},
     "output_type": "execute_result"
    },
    {
     "data": {
      "text/plain": [
       "dict_values(['value1', 'value2'])"
      ]
     },
     "execution_count": 30,
     "metadata": {},
     "output_type": "execute_result"
    },
    {
     "data": {
      "text/plain": [
       "dict_items([('key1', 'value1'), ('key2', 'value2')])"
      ]
     },
     "execution_count": 30,
     "metadata": {},
     "output_type": "execute_result"
    },
    {
     "name": "stdout",
     "output_type": "stream",
     "text": [
      "key1 is in D1.\n"
     ]
    }
   ],
   "source": [
    "D1 = {\n",
    "    \"key1\": \"value1\",\n",
    "    \"key2\": \"value2\"\n",
    "}\n",
    "D1.keys() #获取keys\n",
    "D1.values() #获取values\n",
    "D1.items() #获取所有信息\n",
    "\n",
    "#判断字典中是否存在特定key\n",
    "if \"key1\" in D1:\n",
    "    print(\"key1 is in D1.\")"
   ]
  },
  {
   "attachments": {},
   "cell_type": "markdown",
   "metadata": {},
   "source": [
    "## 日期时间"
   ]
  },
  {
   "cell_type": "code",
   "execution_count": 65,
   "metadata": {},
   "outputs": [
    {
     "data": {
      "text/plain": [
       "2011"
      ]
     },
     "execution_count": 65,
     "metadata": {},
     "output_type": "execute_result"
    },
    {
     "data": {
      "text/plain": [
       "1"
      ]
     },
     "execution_count": 65,
     "metadata": {},
     "output_type": "execute_result"
    },
    {
     "data": {
      "text/plain": [
       "2"
      ]
     },
     "execution_count": 65,
     "metadata": {},
     "output_type": "execute_result"
    },
    {
     "data": {
      "text/plain": [
       "3"
      ]
     },
     "execution_count": 65,
     "metadata": {},
     "output_type": "execute_result"
    },
    {
     "data": {
      "text/plain": [
       "4"
      ]
     },
     "execution_count": 65,
     "metadata": {},
     "output_type": "execute_result"
    },
    {
     "data": {
      "text/plain": [
       "5"
      ]
     },
     "execution_count": 65,
     "metadata": {},
     "output_type": "execute_result"
    },
    {
     "data": {
      "text/plain": [
       "'2023-11-09 19:39:13'"
      ]
     },
     "execution_count": 65,
     "metadata": {},
     "output_type": "execute_result"
    },
    {
     "data": {
      "text/plain": [
       "datetime.datetime(2023, 11, 9, 19, 37, 49)"
      ]
     },
     "execution_count": 65,
     "metadata": {},
     "output_type": "execute_result"
    },
    {
     "data": {
      "text/plain": [
       "[datetime.datetime(2023, 11, 9, 19, 39, 13, 754243),\n",
       " datetime.datetime(2023, 11, 8, 19, 39, 13, 754243),\n",
       " datetime.datetime(2023, 11, 7, 19, 39, 13, 754243),\n",
       " datetime.datetime(2023, 11, 6, 19, 39, 13, 754243),\n",
       " datetime.datetime(2023, 11, 5, 19, 39, 13, 754243),\n",
       " datetime.datetime(2023, 11, 4, 19, 39, 13, 754243),\n",
       " datetime.datetime(2023, 11, 3, 19, 39, 13, 754243),\n",
       " datetime.datetime(2023, 11, 2, 19, 39, 13, 754243),\n",
       " datetime.datetime(2023, 11, 1, 19, 39, 13, 754243),\n",
       " datetime.datetime(2023, 10, 31, 19, 39, 13, 754243)]"
      ]
     },
     "execution_count": 65,
     "metadata": {},
     "output_type": "execute_result"
    }
   ],
   "source": [
    "from datetime import datetime\n",
    "from datetime import timedelta\n",
    "time1 = datetime(2011, 1, 2, 3, 4, 5)\n",
    "time1.year\n",
    "time1.month\n",
    "time1.day\n",
    "time1.hour\n",
    "time1.minute\n",
    "time1.second\n",
    "\n",
    "datetime.now().strftime('%Y-%m-%d %H:%M:%S') #由日期格式转化为字符串格式\n",
    "datetime.strptime('2023-11-09 19:37:49', '%Y-%m-%d %H:%M:%S') #由字符串转化为日期格式\n",
    "\n",
    "oneday = timedelta(1)#可用单位：days, seconds, microseconds, milliseconds, minutes, hours, weeks\n",
    "[datetime.today() - timedelta(days=x) for x in range(0, 10)] #创建一个时间跨度列表"
   ]
  },
  {
   "attachments": {},
   "cell_type": "markdown",
   "metadata": {},
   "source": [
    "# 语法"
   ]
  },
  {
   "attachments": {},
   "cell_type": "markdown",
   "metadata": {},
   "source": [
    "## 字符串格式化\n",
    "注意f-string语法只在高版本的python中起作用"
   ]
  },
  {
   "cell_type": "code",
   "execution_count": 72,
   "metadata": {},
   "outputs": [
    {
     "data": {
      "text/plain": [
       "'x=1'"
      ]
     },
     "execution_count": 72,
     "metadata": {},
     "output_type": "execute_result"
    },
    {
     "data": {
      "text/plain": [
       "'c:\\\\Users\\\\Fattree\\\\Desktop\\\\zep-chen.github.io\\\\data\\\\desktop.jpg'"
      ]
     },
     "execution_count": 72,
     "metadata": {},
     "output_type": "execute_result"
    }
   ],
   "source": [
    "x = 1\n",
    "f\"x={x}\"\n",
    "fr'{os.getcwd()}\\desktop.jpg' #在原生字符串下使用格式化"
   ]
  },
  {
   "attachments": {},
   "cell_type": "markdown",
   "metadata": {},
   "source": [
    "## Comprehensions 推导式"
   ]
  },
  {
   "cell_type": "code",
   "execution_count": 51,
   "metadata": {},
   "outputs": [
    {
     "data": {
      "text/plain": [
       "[4]"
      ]
     },
     "execution_count": 51,
     "metadata": {},
     "output_type": "execute_result"
    },
    {
     "data": {
      "text/plain": [
       "[1, 4, 3]"
      ]
     },
     "execution_count": 51,
     "metadata": {},
     "output_type": "execute_result"
    },
    {
     "data": {
      "text/plain": [
       "{'value1': 'key1'}"
      ]
     },
     "execution_count": 51,
     "metadata": {},
     "output_type": "execute_result"
    },
    {
     "data": {
      "text/plain": [
       "{1, 4}"
      ]
     },
     "execution_count": 51,
     "metadata": {},
     "output_type": "execute_result"
    },
    {
     "data": {
      "text/plain": [
       "<generator object <genexpr> at 0x0000022B1EF4A8E0>"
      ]
     },
     "execution_count": 51,
     "metadata": {},
     "output_type": "execute_result"
    }
   ],
   "source": [
    "\n",
    "#列表推导式\n",
    "[x*x for x in [1, 2, 3] if x%2==0]\n",
    "[x*x if x%2==0 else x for x in [1, 2, 3]]\n",
    "\n",
    "#字典推导式\n",
    "D1 = {\n",
    "    \"key1\": \"value1\",\n",
    "    \"key2\": \"value2\"\n",
    "}\n",
    "{v: k for k, v in D1.items() if k=='key1'}\n",
    "\n",
    "#集合推导式\n",
    "{x**2 for x in [1, 1, 2]}\n",
    "\n",
    "#生成器推导式\n",
    "(x**2 for x in range(100))"
   ]
  },
  {
   "attachments": {},
   "cell_type": "markdown",
   "metadata": {},
   "source": [
    "# 函数"
   ]
  },
  {
   "attachments": {},
   "cell_type": "markdown",
   "metadata": {},
   "source": [
    "## MapReduce\n",
    "* map() 会根据提供的函数对指定序列做映射。\n",
    "* reduce() 函数会对参数序列中元素进行累积。"
   ]
  },
  {
   "cell_type": "code",
   "execution_count": 8,
   "metadata": {},
   "outputs": [
    {
     "data": {
      "text/plain": [
       "[3, 7, 11, 15, 19]"
      ]
     },
     "execution_count": 8,
     "metadata": {},
     "output_type": "execute_result"
    },
    {
     "data": {
      "text/plain": [
       "15"
      ]
     },
     "execution_count": 8,
     "metadata": {},
     "output_type": "execute_result"
    }
   ],
   "source": [
    "from functools import reduce\n",
    "\n",
    "list(map(lambda x, y: x + y, [1, 3, 5, 7, 9], [2, 4, 6, 8, 10]))\n",
    "reduce(lambda x, y: x+y, [1,2,3,4,5])"
   ]
  },
  {
   "attachments": {},
   "cell_type": "markdown",
   "metadata": {},
   "source": [
    "## Zip\n",
    "zip() 函数用于将可迭代的对象作为参数，将对象中对应的元素打包成一个个元组，然后返回由这些元组组成的列表。如果各个迭代器的元素个数不一致，则返回列表长度与最短的对象相同。利用 * 号操作符，可以将元组解压为列表。"
   ]
  },
  {
   "cell_type": "code",
   "execution_count": 13,
   "metadata": {},
   "outputs": [
    {
     "data": {
      "text/plain": [
       "[(1, 4), (2, 5), (3, 6)]"
      ]
     },
     "execution_count": 13,
     "metadata": {},
     "output_type": "execute_result"
    },
    {
     "data": {
      "text/plain": [
       "[(1, 4), (2, 5), (3, 6)]"
      ]
     },
     "execution_count": 13,
     "metadata": {},
     "output_type": "execute_result"
    },
    {
     "data": {
      "text/plain": [
       "[(1, 2, 3), (4, 5, 6)]"
      ]
     },
     "execution_count": 13,
     "metadata": {},
     "output_type": "execute_result"
    }
   ],
   "source": [
    "a = [1,2,3]\n",
    "b = [4,5,6]\n",
    "c = [4,5,6,7,8]\n",
    "list(zip(a,b))\n",
    "list(zip(a,c))\n",
    "list(zip(*zip(a,b)))"
   ]
  },
  {
   "attachments": {},
   "cell_type": "markdown",
   "metadata": {},
   "source": [
    "## All and Any\n",
    "* all() 函数用于判断给定的可迭代参数 iterable 中的所有元素是否不为 0、''、False 或者 iterable 为空，如果是返回 True，否则返回 False。\n",
    "* any() 函数用于判断给定的可迭代参数 iterable 是否全部为空对象，如果都为空、0、false，则返回 False，如果不都为空、0、false，则返回 True。"
   ]
  },
  {
   "cell_type": "code",
   "execution_count": 15,
   "metadata": {},
   "outputs": [
    {
     "data": {
      "text/plain": [
       "False"
      ]
     },
     "execution_count": 15,
     "metadata": {},
     "output_type": "execute_result"
    }
   ],
   "source": [
    "all(['a', 'b', '', 'd'])"
   ]
  },
  {
   "attachments": {},
   "cell_type": "markdown",
   "metadata": {},
   "source": [
    "# Input and Output\n",
    "读写模式：`r` 读取；`w` 覆盖写；`a` 追加写；`r+` 读写(覆盖)；`r+a` 读写(追加)；`b` 读写二进制"
   ]
  },
  {
   "attachments": {},
   "cell_type": "markdown",
   "metadata": {},
   "source": [
    "## os package"
   ]
  },
  {
   "cell_type": "code",
   "execution_count": null,
   "metadata": {},
   "outputs": [],
   "source": [
    "import os\n",
    "os.getcwd() #得到当前工作目录，即当前Python脚本工作的目录路径\n",
    "os.listdir() #返回指定目录下的所有文件和目录名\n",
    "os.chdir(r\"C:\\\\Windows\") # 切换路径"
   ]
  },
  {
   "attachments": {},
   "cell_type": "markdown",
   "metadata": {},
   "source": [
    "## 编码\n",
    "* encode编码\n",
    "    * `str->bytes` 作用是将Unicode编码转换成其他编码的字符串。\n",
    "* decode解码\n",
    "    * `bytes->str` 作用是将其他编码的字符串转换成 Unicode 编码。"
   ]
  },
  {
   "cell_type": "code",
   "execution_count": 70,
   "metadata": {},
   "outputs": [
    {
     "data": {
      "text/plain": [
       "'text'"
      ]
     },
     "execution_count": 70,
     "metadata": {},
     "output_type": "execute_result"
    },
    {
     "data": {
      "text/plain": [
       "b'hello'"
      ]
     },
     "execution_count": 70,
     "metadata": {},
     "output_type": "execute_result"
    }
   ],
   "source": [
    "b'text'.decode(encoding=\"utf-8\", errors=\"strict\")\n",
    "'hello'.encode(encoding=\"utf-8\", errors=\"strict\")"
   ]
  },
  {
   "attachments": {},
   "cell_type": "markdown",
   "metadata": {},
   "source": [
    "## txt"
   ]
  },
  {
   "cell_type": "code",
   "execution_count": null,
   "metadata": {},
   "outputs": [],
   "source": [
    "with open('x.txt', 'a+' ,encoding='utf8') as txtfile:\n",
    "    txtfile.write(result+'\\n') #换行追加写入"
   ]
  },
  {
   "attachments": {},
   "cell_type": "markdown",
   "metadata": {},
   "source": [
    "## csv"
   ]
  },
  {
   "cell_type": "code",
   "execution_count": null,
   "metadata": {},
   "outputs": [],
   "source": [
    "import csv\n",
    "with open('x.csv', 'r') as csvfile:\n",
    "    reader = csv.reader(csvfile)\n",
    "    for row in reader:\n",
    "        list.append(row[0]) #按列读取\n",
    "\n",
    "with open('x.csv','a+',newline='',encoding='utf8') as csvfile:\n",
    "    L=['a', 'b']\n",
    "    writer = csv.writer(csvfile)\n",
    "    writer.writerow(L) #逐行写入"
   ]
  },
  {
   "attachments": {},
   "cell_type": "markdown",
   "metadata": {},
   "source": [
    "## JSON\n",
    "注意json和dict有很大区别，json是一种通用数据格式，而dict只是python中一种数据结构。"
   ]
  },
  {
   "cell_type": "code",
   "execution_count": 14,
   "metadata": {},
   "outputs": [
    {
     "data": {
      "text/plain": [
       "{'errno': 0, 'errmsg': None, 'unassigned': 0, 'total': 0, 'list': None}"
      ]
     },
     "execution_count": 14,
     "metadata": {},
     "output_type": "execute_result"
    }
   ],
   "source": [
    "import json\n",
    "\n",
    "J1 = '{\"errno\":0,\"errmsg\":null,\"unassigned\":0,\"total\":0,\"list\":null}'\n",
    "json.loads(J1) #将字符串转换为json结构\n",
    "\n",
    "json_data = json.dumps(dict_data) #字典写入json，需要先将dict转化为字符串\n",
    "with open(\"x.json\", \"w\", encoding='utf8') as jsonfile:\n",
    "    jsonfile.write(json_data)\n",
    "\n",
    "with open(\"x.json\", \"r\", encoding='utf8') as jsonfile:\n",
    "    data = json.load(jsonfile) #读取json作为字典"
   ]
  },
  {
   "attachments": {},
   "cell_type": "markdown",
   "metadata": {},
   "source": [
    "## sqlite3"
   ]
  },
  {
   "cell_type": "code",
   "execution_count": null,
   "metadata": {},
   "outputs": [],
   "source": [
    "import sqlite3\n",
    "conn = sqlite3.connect('test.db') #连接数据库\n",
    "\n",
    "c = conn.cursor() #创建游标\n",
    "c.execute('''CREATE TABLE IF NOT EXISTS COMPANY\n",
    "       (ID INT PRIMARY KEY     NOT NULL,\n",
    "       NAME           TEXT    NOT NULL,\n",
    "       AGE            INT     NOT NULL,\n",
    "       ADDRESS        CHAR(50),\n",
    "       SALARY         REAL);''') #创建table\n",
    "\n",
    "c.execute(\"INSERT INTO COMPANY (ID,NAME,AGE,ADDRESS,SALARY) \\\n",
    "      VALUES (1, 'Paul', 32, 'California', 20000.00 )\"); #插入数据\n",
    "data_cursor = c.execute(\"SELECT id, name, address, salary  from COMPANY\") #查找数据，返回迭代器\n",
    "data_cursor.fetchall() #以tuple返回数据，也可以直接遍历\n",
    "c.execute(\"UPDATE COMPANY set SALARY = 25000.00 where ID=1\") #更新数据\n",
    "c.execute(\"DELETE from COMPANY where ID=2;\") #删除数据\n",
    "\n",
    "conn.commit()\n",
    "conn.close()"
   ]
  },
  {
   "attachments": {},
   "cell_type": "markdown",
   "metadata": {},
   "source": [
    "# Modules"
   ]
  },
  {
   "attachments": {},
   "cell_type": "markdown",
   "metadata": {},
   "source": [
    "## Log\n",
    "* logging\n",
    "* Loguru"
   ]
  },
  {
   "attachments": {},
   "cell_type": "markdown",
   "metadata": {},
   "source": [
    "## pprint\n",
    "pprint在打印嵌套字典时特别有用"
   ]
  },
  {
   "cell_type": "code",
   "execution_count": 20,
   "metadata": {},
   "outputs": [
    {
     "name": "stdout",
     "output_type": "stream",
     "text": [
      "{'errmsg': None,\n",
      " 'errno': {'test': {'type': 1}},\n",
      " 'list': None,\n",
      " 'total': 0,\n",
      " 'unassigned': 0}\n"
     ]
    }
   ],
   "source": [
    "from pprint import pprint\n",
    "D1 = {'errno': {'test': {'type': 1}}, 'errmsg': None, 'unassigned': 0, 'total': 0, 'list': None}\n",
    "pprint(D1)"
   ]
  },
  {
   "cell_type": "markdown",
   "metadata": {},
   "source": [
    "# References\n",
    "* [为什么不建议使用Python自带的logging](https://zhuanlan.zhihu.com/p/662749833)"
   ]
  },
  {
   "cell_type": "markdown",
   "metadata": {},
   "source": []
  }
 ],
 "metadata": {
  "kernelspec": {
   "display_name": "Python 3",
   "language": "python",
   "name": "python3"
  },
  "language_info": {
   "codemirror_mode": {
    "name": "ipython",
    "version": 3
   },
   "file_extension": ".py",
   "mimetype": "text/x-python",
   "name": "python",
   "nbconvert_exporter": "python",
   "pygments_lexer": "ipython3",
   "version": "3.11.4"
  },
  "vscode": {
   "interpreter": {
    "hash": "8237c317dd7162de43e8c05de32e9b3692e6ea3fb3e59d023d36c90ab6e64641"
   }
  }
 },
 "nbformat": 4,
 "nbformat_minor": 2
}
