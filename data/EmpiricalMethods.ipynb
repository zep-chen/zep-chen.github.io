{
 "cells": [
  {
   "attachments": {},
   "cell_type": "markdown",
   "metadata": {},
   "source": [
    "# Matching\n",
    "\n"
   ]
  },
  {
   "attachments": {},
   "cell_type": "markdown",
   "metadata": {},
   "source": [
    "## References\n",
    "1. [Estimating Effects After Matching](https://cran.r-project.org/web/packages/MatchIt/vignettes/estimating-effects.html)\n",
    "2. [广义精确匹配的R实现](https://zhuanlan.zhihu.com/p/506155891)\n",
    "3. [Coarsened Exact Matching in R](https://towardsdatascience.com/coarsened-exact-matching-in-r-a36ae7ef6849)\n",
    "4. [R Coarsened Exact Matching (Printing out matched pairs)](https://stackoverflow.com/questions/65673524/r-coarsened-exact-matching-printing-out-matched-pairs)\n",
    "5. [Coarsened Exact Matching](https://bookdown.org/mike/data_analysis/coarsened-exact-matching.html)\n",
    "6. [Matching in R (I): Subclassification, Common Support and the Curse of Dimensionality](https://www.franciscoyira.com/post/matching-in-r-part-1/)\n",
    "7. [The Effect Chapter 14 - Matching](https://theeffectbook.net/ch-Matching.html)"
   ]
  },
  {
   "cell_type": "markdown",
   "metadata": {},
   "source": []
  },
  {
   "attachments": {},
   "cell_type": "markdown",
   "metadata": {},
   "source": [
    "# References for All Sections\n",
    "a. [A Guide on Data Analysis](https://bookdown.org/mike/data_analysis/)"
   ]
  },
  {
   "cell_type": "markdown",
   "metadata": {},
   "source": []
  }
 ],
 "metadata": {
  "kernelspec": {
   "display_name": "base",
   "language": "python",
   "name": "python3"
  },
  "language_info": {
   "name": "python",
   "version": "3.8.3 (default, Jul  2 2020, 17:30:36) [MSC v.1916 64 bit (AMD64)]"
  },
  "orig_nbformat": 4,
  "vscode": {
   "interpreter": {
    "hash": "f267ea1fdaa4b9f28fa612f1cc31c207967bebb67c16d84190c7018c8e0a779f"
   }
  }
 },
 "nbformat": 4,
 "nbformat_minor": 2
}
