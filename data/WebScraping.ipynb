{
 "cells": [
  {
   "cell_type": "markdown",
   "metadata": {},
   "source": [
    "# Object\n",
    "## Element\n",
    "* `.get_attribute(\"innerHTML\")`: return the actual HTML inside the current element.\n",
    "* `.get_attribute(\"innerText\")`: return the text inside the current element."
   ]
  },
  {
   "cell_type": "markdown",
   "metadata": {},
   "source": [
    "# Select\n",
    "* Xpath"
   ]
  },
  {
   "cell_type": "code",
   "execution_count": null,
   "metadata": {},
   "outputs": [],
   "source": [
    "By.xpath( \"//li[contains(text(), 'Second')]\" )\n",
    "ul/li[text() = 'Second']"
   ]
  },
  {
   "cell_type": "markdown",
   "metadata": {},
   "source": [
    "# References\n",
    "* [Selenium xpath selector based on the element text](https://stackoverflow.com/questions/17329436/selenium-xpath-selector-based-on-the-element-text)"
   ]
  }
 ],
 "metadata": {
  "language_info": {
   "name": "python"
  }
 },
 "nbformat": 4,
 "nbformat_minor": 2
}
