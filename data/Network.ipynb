{
 "cells": [
  {
   "attachments": {},
   "cell_type": "markdown",
   "metadata": {},
   "source": [
    "# Note on Social Network Analysis\n",
    "This note is based on [Methods for Network Analysis](https://bookdown.org/markhoff/social_network_analysis/)"
   ]
  },
  {
   "attachments": {},
   "cell_type": "markdown",
   "metadata": {},
   "source": [
    "## Data Preparation"
   ]
  },
  {
   "cell_type": "code",
   "execution_count": 19,
   "metadata": {
    "vscode": {
     "languageId": "r"
    }
   },
   "outputs": [
    {
     "data": {
      "text/plain": [
       "IGRAPH 0045e6a DN-- 5 6 -- \n",
       "+ attr: name (v/c)\n",
       "+ edges from 0045e6a (vertex names):\n",
       "[1] Mark ->Peter Mark ->Jill  Peter->Bob   Peter->Aaron Bob  ->Jill \n",
       "[6] Jill ->Aaron"
      ]
     },
     "metadata": {},
     "output_type": "display_data"
    },
    {
     "data": {
      "text/html": [
       "<style>\n",
       ".list-inline {list-style: none; margin:0; padding: 0}\n",
       ".list-inline>li {display: inline-block}\n",
       ".list-inline>li:not(:last-child)::after {content: \"\\00b7\"; padding: 0 .5ex}\n",
       "</style>\n",
       "<ol class=list-inline><li>'Mark'</li><li>'Peter'</li><li>'Jill'</li><li>'Bob'</li><li>'Aaron'</li></ol>\n"
      ],
      "text/latex": [
       "\\begin{enumerate*}\n",
       "\\item 'Mark'\n",
       "\\item 'Peter'\n",
       "\\item 'Jill'\n",
       "\\item 'Bob'\n",
       "\\item 'Aaron'\n",
       "\\end{enumerate*}\n"
      ],
      "text/markdown": [
       "1. 'Mark'\n",
       "2. 'Peter'\n",
       "3. 'Jill'\n",
       "4. 'Bob'\n",
       "5. 'Aaron'\n",
       "\n",
       "\n"
      ],
      "text/plain": [
       "[1] \"Mark\"  \"Peter\" \"Jill\"  \"Bob\"   \"Aaron\""
      ]
     },
     "metadata": {},
     "output_type": "display_data"
    }
   ],
   "source": [
    "library(igraph)\n",
    "\n",
    "personA <- c(\"Mark\", \"Mark\", \"Peter\", \"Peter\", \"Bob\", \"Jill\")\n",
    "personB <- c(\"Peter\", \"Jill\", \"Bob\", \"Aaron\", \"Jill\", \"Aaron\")\n",
    "edgelist <- data.frame(PersonA = personA, PersonB = personB, stringsAsFactors = F)\n",
    "\n",
    "adjacency <- matrix(c(0,1,0,1,0,1,0,1,0,1,0,1,0,1,0,1,0,1,0,1,0,1,0,1,0), nrow = 5, ncol = 5, dimnames = list(c(\"Mark\", \"Peter\", \"Bob\", \"Jill\", \"Aaron\"), c(\"Mark\", \"Peter\", \"Bob\", \"Jill\", \"Aaron\")))\n",
    "\n",
    "money_edgelist <- as.matrix(edgelist)\n",
    "moneyNetwork <- graph.edgelist(money_edgelist, directed=TRUE)\n",
    "moneyNetwork #summary: this is a igraph object and a directed network (DN), with 5 nodes and 6 edges.\n",
    "V(moneyNetwork)$name #check its attribute \"name\" for the vertices."
   ]
  },
  {
   "cell_type": "code",
   "execution_count": 28,
   "metadata": {
    "vscode": {
     "languageId": "r"
    }
   },
   "outputs": [
    {
     "data": {
      "image/png": "[encoded data removed]",
      "text/plain": [
       "Plot with title \"\""
      ]
     },
     "metadata": {
      "image/png": {
       "height": 420,
       "width": 420
      }
     },
     "output_type": "display_data"
    }
   ],
   "source": [
    "plot(moneyNetwork, vertex.size = 20, vertex.color = \"tomato\", vertex.frame.color = NA, vertex.label.cex = .7, vertex.label.color = \"black\")\n",
    "# vertex.label = NA No label\n",
    "# edge.curved = .1 curve edge, but it should not be larger than .1; otherwise the plot will be very strange."
   ]
  },
  {
   "attachments": {},
   "cell_type": "markdown",
   "metadata": {},
   "source": [
    "The plot function may not output the same layout. To plot the network at a given way, we should set the layout before."
   ]
  },
  {
   "cell_type": "code",
   "execution_count": 25,
   "metadata": {
    "vscode": {
     "languageId": "r"
    }
   },
   "outputs": [
    {
     "data": {
      "image/png": "[encoded data removed]",
      "text/plain": [
       "Plot with title \"\""
      ]
     },
     "metadata": {
      "image/png": {
       "height": 420,
       "width": 420
      }
     },
     "output_type": "display_data"
    }
   ],
   "source": [
    "kamadaLayout <- layout.kamada.kawai(moneyNetwork)\n",
    "# e.g., layout.fruchterman.reingold\n",
    "plot(moneyNetwork, layout = kamadaLayout, vertex.size = 10, vertex.color = \"tomato\", vertex.frame.color = NA, vertex.label.cex = .7,  vertex.label = NA, edge.curved = .1, edge.arrow.size = .3, edge.width = .7)"
   ]
  },
  {
   "cell_type": "code",
   "execution_count": 33,
   "metadata": {
    "vscode": {
     "languageId": "r"
    }
   },
   "outputs": [
    {
     "data": {
      "text/plain": [
       "IGRAPH 88a9de3 DN-- 5 6 -- \n",
       "+ attr: name (v/c), Age (v/c), Gender (v/c)\n",
       "+ edges from 88a9de3 (vertex names):\n",
       "[1] Mark ->Peter Mark ->Jill  Peter->Bob   Peter->Aaron Bob  ->Jill \n",
       "[6] Jill ->Aaron"
      ]
     },
     "metadata": {},
     "output_type": "display_data"
    },
    {
     "data": {
      "text/html": [
       "<style>\n",
       ".list-inline {list-style: none; margin:0; padding: 0}\n",
       ".list-inline>li {display: inline-block}\n",
       ".list-inline>li:not(:last-child)::after {content: \"\\00b7\"; padding: 0 .5ex}\n",
       "</style>\n",
       "<ol class=list-inline><li>'Male'</li><li>'Female'</li><li>'Male'</li><li>'Female'</li><li>'Female'</li></ol>\n"
      ],
      "text/latex": [
       "\\begin{enumerate*}\n",
       "\\item 'Male'\n",
       "\\item 'Female'\n",
       "\\item 'Male'\n",
       "\\item 'Female'\n",
       "\\item 'Female'\n",
       "\\end{enumerate*}\n"
      ],
      "text/markdown": [
       "1. 'Male'\n",
       "2. 'Female'\n",
       "3. 'Male'\n",
       "4. 'Female'\n",
       "5. 'Female'\n",
       "\n",
       "\n"
      ],
      "text/plain": [
       "[1] \"Male\"   \"Female\" \"Male\"   \"Female\" \"Female\""
      ]
     },
     "metadata": {},
     "output_type": "display_data"
    }
   ],
   "source": [
    "personA <- c(\"Mark\", \"Mark\", \"Peter\", \"Peter\", \"Bob\", \"Jill\")\n",
    "personB <- c(\"Peter\", \"Jill\", \"Bob\", \"Aaron\", \"Jill\", \"Aaron\")\n",
    "edgelist <- data.frame(PersonA = personA, PersonB = personB, stringsAsFactors = F)\n",
    "money_edgelist <- as.matrix(edgelist)\n",
    "name <- c(\"Mark\", \"Peter\", \"Bob\", \"Jill\", \"Aaron\")\n",
    "age <- c(53, 52, 25, 23, 19)\n",
    "gender <- c(\"Male\", \"Female\", \"Male\", \"Female\", \"Female\")\n",
    "attributelist <- data.frame(Name = name, Age = age, Gender = gender, stringsAsFactors = F)\n",
    "money_attributelist <- as.matrix(attributelist)\n",
    "moneyNetwork <- graph_from_data_frame(money_edgelist, directed=TRUE, vertices = money_attributelist)\n",
    "moneyNetwork\n",
    "V(moneyNetwork)$Gender "
   ]
  },
  {
   "cell_type": "code",
   "execution_count": 35,
   "metadata": {
    "vscode": {
     "languageId": "r"
    }
   },
   "outputs": [
    {
     "data": {
      "image/png": "[encoded data removed]",
      "text/plain": [
       "Plot with title \"\""
      ]
     },
     "metadata": {
      "image/png": {
       "height": 420,
       "width": 420
      }
     },
     "output_type": "display_data"
    }
   ],
   "source": [
    "V(moneyNetwork)$color <- ifelse(V(moneyNetwork)$Gender == \"Male\", \"dodgerblue3\",\"seagreen\")\n",
    "kamadaLayout <- layout.kamada.kawai(moneyNetwork)\n",
    "plot(moneyNetwork, layout = kamadaLayout, vertex.size = 10, vertex.frame.color = \"black\", vertex.label.cex = .7, vertex.label = NA, edge.curved = .1, edge.arrow.size = .3)"
   ]
  },
  {
   "cell_type": "code",
   "execution_count": null,
   "metadata": {
    "vscode": {
     "languageId": "r"
    }
   },
   "outputs": [],
   "source": []
  }
 ],
 "metadata": {
  "kernelspec": {
   "display_name": "R",
   "language": "R",
   "name": "ir"
  },
  "language_info": {
   "codemirror_mode": "r",
   "file_extension": ".r",
   "mimetype": "text/x-r-source",
   "name": "R",
   "pygments_lexer": "r",
   "version": "4.1.0"
  },
  "orig_nbformat": 4,
  "vscode": {
   "interpreter": {
    "hash": "f267ea1fdaa4b9f28fa612f1cc31c207967bebb67c16d84190c7018c8e0a779f"
   }
  }
 },
 "nbformat": 4,
 "nbformat_minor": 2
}
